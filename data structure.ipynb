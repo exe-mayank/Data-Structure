{
 "cells": [
  {
   "cell_type": "markdown",
   "id": "e510ed32-08a2-4a16-9ea7-49b35dc4d4e3",
   "metadata": {},
   "source": [
    "#1. Discuss string slicing and provide examples\n",
    "\n",
    "In Python, a string is an ordered sequence of Unicode characters. Each character in the string has a unique index in the sequence. The index starts with 0. First character in the string has its positional index 0. The index keeps incrementing towards the end of string.\n",
    "String slicing is a way of creating a sub-string from a given string. In this process, we extract a portion or piece of a string. Usually, we use the slice operator \"[ : ]\" to perform slicing on a Python String. "
   ]
  },
  {
   "cell_type": "code",
   "execution_count": 2,
   "id": "9edbd98f-e6f6-405a-a254-eddc99a32363",
   "metadata": {},
   "outputs": [
    {
     "name": "stdout",
     "output_type": "stream",
     "text": [
      "String slicing\n",
      "AST\n",
      "SR\n"
     ]
    }
   ],
   "source": [
    "# Python program to demonstrate\n",
    "# string slicing\n",
    "\n",
    "String = 'ASTRING'\n",
    "\n",
    "# Using slice constructor\n",
    "s1 = slice(3)\n",
    "s2 = slice(1, 5, 2)\n",
    "\n",
    "\n",
    "print(\"String slicing\")\n",
    "print(String[s1])\n",
    "print(String[s2])\n",
    "\n"
   ]
  },
  {
   "cell_type": "markdown",
   "id": "34c5616a-973e-4a73-820f-325983a0ce50",
   "metadata": {},
   "source": [
    "2. Explain the key features of lists in Python.\n",
    "\n",
    "Python offers six types of built-in sequences to store data, one of which is a List. The List is like a dynamic array, along with the linear sequence, and also provides you with several built-in functions to perform various operations on data stored in it.\n",
    "\n",
    "Lists in Python can contain duplicate elements as each element is identified by a unique number/ position known as an index.We can store any number of items/elements in a list, and they can be homogeneous (all items of the same data type) or heterogeneous (items of different data types in a list).The data stored in the List is ordered. That is, it will be stored in the way we input it. Therefore, Lists are ordered sequences. List in Python also offers various simple and shorthand ways like List comprehensions.\n",
    "\n",
    "Key Features of a Python List:\n",
    "\n",
    "Ordered: Lists maintain the order in which the data is inserted.\n",
    "Mutable: In list elements are changeable. It means that we can modify the items stored within the list.\n",
    "Heterogenous: Lists can store elements of various data types.\n",
    "Dynamic: List can expand or shrink automatically to accommodate the items accordingly.\n",
    "Duplicate Elements: Lists allow us to store duplicate data.\n",
    "\n"
   ]
  },
  {
   "cell_type": "code",
   "execution_count": 10,
   "id": "ffc7e0fc-e898-4370-8055-bde6e8d2ac91",
   "metadata": {},
   "outputs": [
    {
     "data": {
      "text/plain": [
       "'Rishabh'"
      ]
     },
     "execution_count": 10,
     "metadata": {},
     "output_type": "execute_result"
    }
   ],
   "source": [
    "#3. Describe how to access, modify and delete elements in a list with examples.\n",
    "\n",
    "#A list is a data type, that stores a collection of different objects (items) within a square bracket([]). Each item in a list is separated by a comma(,) with the first item at index 0.\n",
    "\n",
    "#Method to access, modify and delete element in a list\n",
    "\n",
    "Team_list = [\"Rohit\", \"Shubman\", \"Virat\", \"Rishabh\", \"Hardik\"]\n",
    "\n",
    "#to Access the item in the list we can use the indexing method.\n",
    "\n",
    "Team_list[-2]\n"
   ]
  },
  {
   "cell_type": "code",
   "execution_count": 19,
   "id": "97cfbe57-036a-4910-bf1f-5820d76bf252",
   "metadata": {},
   "outputs": [
    {
     "data": {
      "text/plain": [
       "['Rohit', 'Shubman', 'Virat', 'Dhoni', 'Rishabh', 'Hardik']"
      ]
     },
     "execution_count": 19,
     "metadata": {},
     "output_type": "execute_result"
    }
   ],
   "source": [
    "#To modify the list we can use Different fuctions available in python\n",
    "Team_list = [\"Rohit\", \"Shubman\", \"Virat\", \"Rishabh\", \"Hardik\"]\n",
    "Team_list.insert(3, \"Dhoni\")\n",
    "Team_list"
   ]
  },
  {
   "cell_type": "code",
   "execution_count": 22,
   "id": "29f9c147-53e4-4718-80ae-8f110112317a",
   "metadata": {},
   "outputs": [
    {
     "data": {
      "text/plain": [
       "['Rohit', 'Shubman', 'Virat', 'Hardik']"
      ]
     },
     "execution_count": 22,
     "metadata": {},
     "output_type": "execute_result"
    }
   ],
   "source": [
    "#To delete element from a list we can use remove fuction\n",
    "Team_list = [\"Rohit\", \"Shubman\", \"Virat\", \"Rishabh\", \"Hardik\"]\n",
    "Team_list.remove(\"Rishabh\")\n",
    "Team_list"
   ]
  },
  {
   "cell_type": "markdown",
   "id": "7cb1dc03-2ee3-43fd-846b-6c48fc1b3ff0",
   "metadata": {},
   "source": [
    "4. Compare and contrast tuples and lists with examples.\n",
    "\n",
    "Tuples are a sequence data type containing elements of different data types.\n",
    "\n",
    "It comes in handy when storing a collection of items, especially if we want those items to be unchanging. \n",
    "\n",
    "A python tuple has the following features - \n",
    "\n",
    "Tuples are used to store heterogeneous and homogeneous data.\n",
    "Tuples are immutable in nature.\n",
    "Tuples are ordered\n",
    "An index is used to traverse a tuple.\n",
    "Tuples are similar to lists. It also preserves the data sequence.\n",
    "As tuples are immutable, they are faster than the list because they are static.\n",
    "\n",
    "\n",
    "Lists are one of the most flexible and powerful containers in Python.\n",
    "\n",
    "The list has the following features - \n",
    "\n",
    "We can use Python lists to store data of multiple types simultaneously.\n",
    "Lists help preserve data sequences and further process those sequences in other ways. \n",
    "Lists are dynamic.\n",
    "Lists are mutable.\n",
    "Lists are ordered.\n",
    "An index is used to traverse a list.\n",
    "Lists help store multiple items and then iterate over them using a loop. Because lists are dynamic, we can easily add or remove items anytime.\n",
    "\n"
   ]
  },
  {
   "cell_type": "code",
   "execution_count": 26,
   "id": "a13bdb7c-a2a7-406e-b0c6-6be34be800fa",
   "metadata": {},
   "outputs": [
    {
     "data": {
      "text/plain": [
       "'Rishabh'"
      ]
     },
     "execution_count": 26,
     "metadata": {},
     "output_type": "execute_result"
    }
   ],
   "source": [
    "# Python program to demonstrate\n",
    "#Tuples immutability\n",
    "\n",
    "tuples = (\"Rohit\", \"Shubman\", \"Virat\", \"Rishabh\", \"Hardik\")\n",
    "tuples[3]"
   ]
  },
  {
   "cell_type": "code",
   "execution_count": 27,
   "id": "1e7b81e3-01e1-4a66-b2af-0e941ef8ed62",
   "metadata": {},
   "outputs": [
    {
     "ename": "TypeError",
     "evalue": "'tuple' object does not support item assignment",
     "output_type": "error",
     "traceback": [
      "\u001b[0;31m---------------------------------------------------------------------------\u001b[0m",
      "\u001b[0;31mTypeError\u001b[0m                                 Traceback (most recent call last)",
      "Cell \u001b[0;32mIn[27], line 1\u001b[0m\n\u001b[0;32m----> 1\u001b[0m \u001b[43mtuples\u001b[49m\u001b[43m[\u001b[49m\u001b[38;5;241;43m3\u001b[39;49m\u001b[43m]\u001b[49m \u001b[38;5;241m=\u001b[39m (\u001b[38;5;124m\"\u001b[39m\u001b[38;5;124mDhoni\u001b[39m\u001b[38;5;124m\"\u001b[39m) \u001b[38;5;66;03m#tuples doesnot support item assignment\u001b[39;00m\n",
      "\u001b[0;31mTypeError\u001b[0m: 'tuple' object does not support item assignment"
     ]
    }
   ],
   "source": [
    "tuples[3] = (\"Dhoni\") #tuples doesnot support item assignment"
   ]
  },
  {
   "cell_type": "code",
   "execution_count": 46,
   "id": "3f206e4b-efd2-4e5c-b8dd-9fc40d2cd628",
   "metadata": {},
   "outputs": [
    {
     "data": {
      "text/plain": [
       "'Rishabh'"
      ]
     },
     "execution_count": 46,
     "metadata": {},
     "output_type": "execute_result"
    }
   ],
   "source": [
    "# Python program to demonstrate\n",
    "#list mmutability\n",
    "\n",
    "list = [\"Rohit\", \"Shubman\", \"Virat\", \"Rishabh\", \"Hardik\"]\n",
    "list[3]\n"
   ]
  },
  {
   "cell_type": "code",
   "execution_count": 48,
   "id": "927dc138-bf1e-4d34-b903-13bb070b9a30",
   "metadata": {},
   "outputs": [],
   "source": [
    "list.remove(\"Rishabh\")"
   ]
  },
  {
   "cell_type": "code",
   "execution_count": 49,
   "id": "fe1ddb82-fb14-4bc2-a025-d8fb62053bfb",
   "metadata": {},
   "outputs": [
    {
     "data": {
      "text/plain": [
       "['Rohit', 'Shubman', 'Virat', 'Hardik']"
      ]
     },
     "execution_count": 49,
     "metadata": {},
     "output_type": "execute_result"
    }
   ],
   "source": [
    "list"
   ]
  },
  {
   "cell_type": "markdown",
   "id": "529df89c-d889-4718-922f-41ceb32cde95",
   "metadata": {},
   "source": [
    "5. Describe the key features of sets and provide examples of their use.\n",
    "\n",
    "Set is a data type in python used to store several items in a single variable. It is one of the four built-in data types (List, Dictionary, Tuple, and Set) having qualities and usage different from the other three. It is a collection that is written with curly brackets and is both unindexed and unordered. \n",
    "\n",
    "Key Properties of Sets:\n",
    "\n",
    "Uniqueness : Sets only contain unique elements. Duplicates are automatically removed.\n",
    "Unordered : Elements in a set don’t have a specific order. The order they’re added or retrieved is not guaranteed.\n",
    "Mutability : Sets can be modified after creation. Elements can be added or removed using various methods.\n",
    "Iterability : Sets can be used in for loops to iterate over their elements.\n",
    " "
   ]
  },
  {
   "cell_type": "code",
   "execution_count": 1,
   "id": "57bf00e1-444d-4eee-8536-199cceae063c",
   "metadata": {},
   "outputs": [
    {
     "name": "stdout",
     "output_type": "stream",
     "text": [
      "Student ID: {112, 114, 115, 116, 118}\n",
      "Vowel Letters: {'a', 'e', 'u', 'i', 'o'}\n",
      "Set of mixed data types: {'Hello', 'Bye', 101, -2}\n"
     ]
    }
   ],
   "source": [
    "# create a set of integer type\n",
    "student_id = {112, 114, 116, 118, 115}\n",
    "print('Student ID:', student_id)\n",
    "\n",
    "# create a set of string type\n",
    "vowel_letters = {'a', 'e', 'i', 'o', 'u'}\n",
    "print('Vowel Letters:', vowel_letters)\n",
    "\n",
    "# create a set of mixed data types\n",
    "mixed_set = {'Hello', 101, -2, 'Bye'}\n",
    "print('Set of mixed data types:', mixed_set)"
   ]
  },
  {
   "cell_type": "markdown",
   "id": "f4100ff8-fb8c-46e1-be39-ee64dae11d0c",
   "metadata": {},
   "source": [
    "6. Discuss the use cases of tuples and sets in Python programming.\n",
    "\n",
    "In Python programming, both tuples and sets are built-in data types that are used for different purposes. Below are some common use cases for each:\n"
   ]
  },
  {
   "cell_type": "code",
   "execution_count": 3,
   "id": "b6cacf08-2f89-45ea-8ff1-c919d5ba453f",
   "metadata": {},
   "outputs": [
    {
     "name": "stdout",
     "output_type": "stream",
     "text": [
      "['cat.jpg', 'dog.png']\n"
     ]
    }
   ],
   "source": [
    "#Use case of tuples\n",
    "# List of files in the folder\n",
    "all_files = ['cat.jpg', 'dog.png', 'report.docx', 'sales.csv']\n",
    "\n",
    "# Tuple of image file extensions\n",
    "img_exts_tup = ('jpg','png')\n",
    "\n",
    "# Filter only image files using Tuple\n",
    "img_files = [file for file in all_files if file.endswith(img_exts_tup)]\n",
    "\n",
    "print(img_files) # ['cat.jpg', 'dog.png']"
   ]
  },
  {
   "cell_type": "code",
   "execution_count": 4,
   "id": "85360a39-3f0d-47bd-bc14-1ca4afdec55d",
   "metadata": {},
   "outputs": [
    {
     "name": "stdout",
     "output_type": "stream",
     "text": [
      "[1, 2, 3, 4, 5]\n"
     ]
    }
   ],
   "source": [
    "#use case of sets\n",
    "#List of numbers\n",
    "list_a = [1,5,2,3,3,4,5,1]\n",
    "\n",
    "#Set of number\n",
    "set_a = set(list_a)\n",
    "\n",
    "list_a = list(set_a)\n",
    "print(list_a)  #seprates the unique numbers present in the list"
   ]
  },
  {
   "cell_type": "markdown",
   "id": "b92dc0b1-0448-421d-87fe-acf151c39102",
   "metadata": {},
   "source": [
    "7.  Describe how to add, modify, and delete items in a dictionary with examples.\n",
    "\n",
    "A Python dictionary is a fast, versatile way to store and retrieve data by way of a name or even a more complex object type, rather than just an index number. Python dictionaries consists of one or more keys—an object like a string or an integer. Each key is associated with a value, which can be any Python object.\n",
    "\n"
   ]
  },
  {
   "cell_type": "code",
   "execution_count": null,
   "id": "09d3e3d8-67ee-4861-91fc-e1cce47d29ab",
   "metadata": {},
   "outputs": [],
   "source": [
    "#example for adding, modifing and delete items in dictionary\n",
    "\n",
    "data = {\"name\": input(\"Write your name\"), \"Email id\": input(\"Email ID\")}\n",
    "\n",
    "# Adding age to the dictionary\n",
    "data[\"age\"] = input(\"Age \")\n",
    "\n",
    "# Modifying the Email ID\n",
    "data[\"Email ID\"] = input(\"Email id\"), input(\"domain name\")\n",
    "\n",
    "## Deleting the Email ID\n",
    "del data[\"Email id\"]\n",
    "\n"
   ]
  },
  {
   "cell_type": "markdown",
   "id": "752d9af7-fe6d-444c-b25b-e76025518ece",
   "metadata": {},
   "source": [
    " 8. Discuss the importance of dictionary keys being immutable and provide examples\n",
    " \n",
    " \n",
    "In Python, dictionary keys must be immutable because immutability ensures that the keys remain consistent and hashable. Here’s why this is important:\n",
    "\n",
    "Hashing Mechanism:\n",
    "\n",
    "Python dictionaries use a hash table to store and retrieve values quickly. The key’s hash value determines where it is stored in the memory.\n",
    "Immutable objects, like strings, numbers, and tuples (containing only immutable elements), have a consistent hash value throughout their lifetime. If keys were mutable, their hash values could change, leading to data being lost or making it impossible to retrieve.\n",
    "Consistency and Reliability\n",
    "\n",
    "If dictionary keys were mutable, modifying a key would affect the data structure. It would make retrieving the associated value unreliable since the original hash value, and thus the key’s position in the hash table, would no longer be correct.\n",
    "For example, if a list were used as a key, and the list’s contents were altered, the dictionary would no longer be able to find the associated value.\n",
    "\n",
    "Efficiency\n",
    "\n",
    "The immutability of keys ensures that the dictionary operations (insertion, deletion, and lookup) remain efficient. Mutable keys could degrade performance, as the dictionary would need to account for possible changes in keys.\n",
    "\n",
    "Avoiding Errors\n",
    "\n",
    "Enforcing immutability prevents common errors. For instance, if a key were mutable, a slight modification to it might result in a different key, leading to a new entry being created or a failure to retrieve the original entry. This could introduce hard-to-debug issues in programs."
   ]
  },
  {
   "cell_type": "code",
   "execution_count": 35,
   "id": "30e1258f-b5af-46f4-9d39-edc41f92ec47",
   "metadata": {},
   "outputs": [
    {
     "ename": "TypeError",
     "evalue": "unhashable type: 'list'",
     "output_type": "error",
     "traceback": [
      "\u001b[0;31m---------------------------------------------------------------------------\u001b[0m",
      "\u001b[0;31mTypeError\u001b[0m                                 Traceback (most recent call last)",
      "Cell \u001b[0;32mIn[35], line 5\u001b[0m\n\u001b[1;32m      2\u001b[0m data \u001b[38;5;241m=\u001b[39m {\u001b[38;5;124m\"\u001b[39m\u001b[38;5;124mname\u001b[39m\u001b[38;5;124m\"\u001b[39m: \u001b[38;5;124m\"\u001b[39m\u001b[38;5;124mAlice\u001b[39m\u001b[38;5;124m\"\u001b[39m}\n\u001b[1;32m      4\u001b[0m \u001b[38;5;66;03m# Mutable key (list, if it were allowed)\u001b[39;00m\n\u001b[0;32m----> 5\u001b[0m data \u001b[38;5;241m=\u001b[39m {[\u001b[38;5;124m\"\u001b[39m\u001b[38;5;124mname\u001b[39m\u001b[38;5;124m\"\u001b[39m]: \u001b[38;5;124m\"\u001b[39m\u001b[38;5;124mAlice\u001b[39m\u001b[38;5;124m\"\u001b[39m}  \u001b[38;5;66;03m# This would raise a TypeError in Python\u001b[39;00m\n",
      "\u001b[0;31mTypeError\u001b[0m: unhashable type: 'list'"
     ]
    }
   ],
   "source": [
    "# Immutable key (string)\n",
    "data = {\"name\": \"Alice\"}\n",
    "\n",
    "# Mutable key (list, if it were allowed)\n",
    "data = {[\"name\"]: \"Alice\"}  # This would raise a TypeError in Python\n",
    "\n"
   ]
  },
  {
   "cell_type": "code",
   "execution_count": null,
   "id": "da10e5a5-04bc-47b6-a3d6-6aa8ff8f7059",
   "metadata": {},
   "outputs": [],
   "source": []
  }
 ],
 "metadata": {
  "kernelspec": {
   "display_name": "Python 3 (ipykernel)",
   "language": "python",
   "name": "python3"
  },
  "language_info": {
   "codemirror_mode": {
    "name": "ipython",
    "version": 3
   },
   "file_extension": ".py",
   "mimetype": "text/x-python",
   "name": "python",
   "nbconvert_exporter": "python",
   "pygments_lexer": "ipython3",
   "version": "3.10.8"
  }
 },
 "nbformat": 4,
 "nbformat_minor": 5
}
